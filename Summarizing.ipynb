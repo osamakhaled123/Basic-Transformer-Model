{
 "cells": [
  {
   "cell_type": "code",
   "execution_count": null,
   "id": "0",
   "metadata": {
    "_cell_guid": "b1076dfc-b9ad-4769-8c92-a6c4dae69d19",
    "_uuid": "8f2839f25d086af736a60e9eeb907d3b93b6e0e5",
    "id": "kJt1cuRPm93-",
    "papermill": {
     "duration": 7.793951,
     "end_time": "2025-07-01T15:34:21.272349",
     "exception": false,
     "start_time": "2025-07-01T15:34:13.478398",
     "status": "completed"
    },
    "tags": []
   },
   "outputs": [],
   "source": [
    "import torch\n",
    "import torch.nn as nn\n",
    "import numpy as np\n",
    "from datasets import load_dataset\n",
    "from tqdm import tqdm\n",
    "import pdb\n",
    "import matplotlib.pyplot as plt\n",
    "import seaborn as sns"
   ]
  },
  {
   "cell_type": "code",
   "execution_count": null,
   "id": "1",
   "metadata": {
    "id": "PJnUKhUvm93_",
    "outputId": "a20f435f-081c-4cd3-c437-fbd7255cdaad",
    "papermill": {
     "duration": 16.184446,
     "end_time": "2025-07-01T15:34:37.469295",
     "exception": false,
     "start_time": "2025-07-01T15:34:21.284849",
     "status": "completed"
    },
    "tags": []
   },
   "outputs": [],
   "source": [
    "!pip install --upgrade datasets\n",
    "dataset = load_dataset(\"cnn_dailymail\",\"3.0.0\")"
   ]
  },
  {
   "cell_type": "code",
   "execution_count": null,
   "id": "2",
   "metadata": {
    "id": "sfHHmRecm94F",
    "outputId": "fd860333-24df-4543-c0ef-c0cb17fa70c9",
    "papermill": {
     "duration": 2.458114,
     "end_time": "2025-07-01T15:34:39.941770",
     "exception": false,
     "start_time": "2025-07-01T15:34:37.483656",
     "status": "completed"
    },
    "tags": []
   },
   "outputs": [],
   "source": [
    "!pip install git\n",
    "!git clone https://github.com/osamakhaled123/Basic-Transformer-Model\n",
    "!cd '/content/Basic-Transformer-Model'\n",
    "%cd Basic-Transformer-Model/"
   ]
  },
  {
   "cell_type": "code",
   "execution_count": null,
   "id": "3",
   "metadata": {
    "id": "9e_rDz418Oqg",
    "papermill": {
     "duration": 0.022116,
     "end_time": "2025-07-01T15:34:39.977535",
     "exception": false,
     "start_time": "2025-07-01T15:34:39.955419",
     "status": "completed"
    },
    "tags": []
   },
   "outputs": [],
   "source": [
    "import Processing_Summarizing_Datasets_From_Scratch as pre"
   ]
  },
  {
   "cell_type": "code",
   "execution_count": null,
   "id": "4",
   "metadata": {
    "id": "a49AoYcUm94G",
    "papermill": {
     "duration": 0.708817,
     "end_time": "2025-07-01T15:34:40.699482",
     "exception": false,
     "start_time": "2025-07-01T15:34:39.990665",
     "status": "completed"
    },
    "tags": []
   },
   "outputs": [],
   "source": [
    "articles = np.array(dataset['train'][:14000]['article'])\n",
    "summaries = np.array(dataset['train'][:14000]['highlights'])\n",
    "texts = {'articles':articles,\n",
    "         'summaries':summaries}\n",
    "max_input_len = 1000\n",
    "max_target_len = 85"
   ]
  },
  {
   "cell_type": "code",
   "execution_count": null,
   "id": "5",
   "metadata": {
    "id": "UmjOww7Gm94H",
    "papermill": {
     "duration": 29.273966,
     "end_time": "2025-07-01T15:35:09.995433",
     "exception": false,
     "start_time": "2025-07-01T15:34:40.721467",
     "status": "completed"
    },
    "tags": []
   },
   "outputs": [],
   "source": [
    "text_train, train_data, train_target, vocab = pre.preprocessing(texts, max_input_len, max_target_len, {})"
   ]
  },
  {
   "cell_type": "code",
   "execution_count": null,
   "id": "6",
   "metadata": {
    "id": "CbOcRtdfUqVk",
    "outputId": "e7fc1ac0-880a-4689-d5ec-cf2dc740224c",
    "papermill": {
     "duration": 0.019287,
     "end_time": "2025-07-01T15:35:10.028757",
     "exception": false,
     "start_time": "2025-07-01T15:35:10.009470",
     "status": "completed"
    },
    "tags": []
   },
   "outputs": [],
   "source": [
    "text_train.shape, train_data.shape, train_target.shape, len(vocab)"
   ]
  },
  {
   "cell_type": "code",
   "execution_count": null,
   "id": "7",
   "metadata": {
    "id": "NbXj1RXVtkVf",
    "papermill": {
     "duration": 0.032005,
     "end_time": "2025-07-01T15:35:10.074009",
     "exception": false,
     "start_time": "2025-07-01T15:35:10.042004",
     "status": "completed"
    },
    "tags": []
   },
   "outputs": [],
   "source": [
    "train_set, val_set, test_set = pre.splitting_and_batching(input_data=train_data, target_data=train_target,\n",
    "                                                          split_frac=0.95, batch_size=32) # Reduced batch size"
   ]
  },
  {
   "cell_type": "code",
   "execution_count": null,
   "id": "8",
   "metadata": {
    "papermill": {
     "duration": 0.021574,
     "end_time": "2025-07-01T15:35:10.108675",
     "exception": false,
     "start_time": "2025-07-01T15:35:10.087101",
     "status": "completed"
    },
    "tags": []
   },
   "outputs": [],
   "source": [
    "import Transformer_model"
   ]
  },
  {
   "cell_type": "code",
   "execution_count": null,
   "id": "9",
   "metadata": {
    "papermill": {
     "duration": 0.017851,
     "end_time": "2025-07-01T15:35:10.139904",
     "exception": false,
     "start_time": "2025-07-01T15:35:10.122053",
     "status": "completed"
    },
    "tags": []
   },
   "outputs": [],
   "source": [
    "# device = torch.device('cuda' if torch.cuda.is_available() else 'cpu')\n",
    "\n",
    "# model = Transformer_model.Transformer(\n",
    "#     vocab=vocab,\n",
    "#     max_input_length=max_input_len,\n",
    "#     max_target_length=max_target_len,\n",
    "#     emb_dim=256,\n",
    "#     dff=1024,\n",
    "#     num_heads=4,\n",
    "#     num_encoder_blocks=4,\n",
    "#     num_decoder_blocks=4,\n",
    "#     dropout=0.5\n",
    "# ).to(device)"
   ]
  },
  {
   "cell_type": "code",
   "execution_count": null,
   "id": "10",
   "metadata": {
    "id": "F_sQ8tPgJLTB",
    "papermill": {
     "duration": 0.017662,
     "end_time": "2025-07-01T15:35:10.170863",
     "exception": false,
     "start_time": "2025-07-01T15:35:10.153201",
     "status": "completed"
    },
    "tags": []
   },
   "outputs": [],
   "source": [
    "# train_losses , val_losses = Transformer_model.train(model, train_set, val_set, 5, 0.005, device)"
   ]
  },
  {
   "cell_type": "code",
   "execution_count": null,
   "id": "11",
   "metadata": {
    "papermill": {
     "duration": 0.017632,
     "end_time": "2025-07-01T15:35:10.201629",
     "exception": false,
     "start_time": "2025-07-01T15:35:10.183997",
     "status": "completed"
    },
    "tags": []
   },
   "outputs": [],
   "source": [
    "# saved_dict ={'model':model,\n",
    "#             'train loss':train_losses,\n",
    "#             'val losses':val_losses}"
   ]
  },
  {
   "cell_type": "code",
   "execution_count": null,
   "id": "12",
   "metadata": {
    "id": "tNQD9yVzshK2",
    "papermill": {
     "duration": 0.01757,
     "end_time": "2025-07-01T15:35:10.232879",
     "exception": false,
     "start_time": "2025-07-01T15:35:10.215309",
     "status": "completed"
    },
    "tags": []
   },
   "outputs": [],
   "source": [
    "# torch.save(saved_dict, 'Transformer_Model.pt')"
   ]
  },
  {
   "cell_type": "code",
   "execution_count": null,
   "id": "13",
   "metadata": {
    "id": "8CMRQpp7d-vz",
    "papermill": {
     "duration": 0.066519,
     "end_time": "2025-07-01T15:35:10.312630",
     "exception": false,
     "start_time": "2025-07-01T15:35:10.246111",
     "status": "completed"
    },
    "tags": []
   },
   "outputs": [],
   "source": [
    "%cd /kaggle/working/"
   ]
  },
  {
   "cell_type": "code",
   "execution_count": null,
   "id": "14",
   "metadata": {
    "id": "idv9ChowWlww",
    "outputId": "2871983e-7a77-423f-912e-20441a5eff00",
    "papermill": {
     "duration": 9.206502,
     "end_time": "2025-07-01T15:35:19.532970",
     "exception": false,
     "start_time": "2025-07-01T15:35:10.326468",
     "status": "completed"
    },
    "tags": []
   },
   "outputs": [],
   "source": [
    "!pip install -q gdown\n",
    "!gdown --id 1cxLyCAa4XH5xgaqV8CwTD_un3FEF1hGN --output Transformer_Model.pt\n"
   ]
  },
  {
   "cell_type": "code",
   "execution_count": null,
   "id": "15",
   "metadata": {
    "id": "x3DuuVb6GObh",
    "papermill": {
     "duration": 0.070194,
     "end_time": "2025-07-01T15:35:19.618085",
     "exception": false,
     "start_time": "2025-07-01T15:35:19.547891",
     "status": "completed"
    },
    "tags": []
   },
   "outputs": [],
   "source": [
    "device = torch.device('cuda' if torch.cuda.is_available() else 'cpu')"
   ]
  },
  {
   "cell_type": "code",
   "execution_count": null,
   "id": "16",
   "metadata": {
    "id": "hHmft-N95N0e",
    "papermill": {
     "duration": 0.423757,
     "end_time": "2025-07-01T15:35:20.056248",
     "exception": false,
     "start_time": "2025-07-01T15:35:19.632491",
     "status": "completed"
    },
    "tags": []
   },
   "outputs": [],
   "source": [
    "state_dict = torch.load('Transformer_Model.pt', map_location=device, weights_only=False)"
   ]
  },
  {
   "cell_type": "code",
   "execution_count": null,
   "id": "17",
   "metadata": {
    "papermill": {
     "duration": 0.019119,
     "end_time": "2025-07-01T15:35:20.090219",
     "exception": false,
     "start_time": "2025-07-01T15:35:20.071100",
     "status": "completed"
    },
    "tags": []
   },
   "outputs": [],
   "source": [
    "model = state_dict['model']\n",
    "train_losses = state_dict['train loss']\n",
    "val_losses = state_dict['val losses']"
   ]
  },
  {
   "cell_type": "code",
   "execution_count": null,
   "id": "18",
   "metadata": {
    "id": "MCIMV_qc8EhS",
    "papermill": {
     "duration": 0.019133,
     "end_time": "2025-07-01T15:35:20.123683",
     "exception": false,
     "start_time": "2025-07-01T15:35:20.104550",
     "status": "completed"
    },
    "tags": []
   },
   "outputs": [],
   "source": [
    "sentence = \"\"\"Harry Potter star Daniel Radcliffe gains access to a reported £20 million \n",
    "($41.1 million) fortune as he turns 18 on Monday, but he insists the money won\\'t cast a spell \n",
    "on him. Daniel Radcliffe as Harry Potter in \"Harry Potter and the Order of the Phoenix\" To the \n",
    "disappointment of gossip columnists around the world, the young actor says he has no plans to \n",
    "fritter his cash away on fast cars, drink and celebrity parties.\"\"\""
   ]
  },
  {
   "cell_type": "code",
   "execution_count": null,
   "id": "19",
   "metadata": {
    "id": "nPrUBKdG7gyJ",
    "papermill": {
     "duration": 1.026913,
     "end_time": "2025-07-01T15:35:21.164844",
     "exception": false,
     "start_time": "2025-07-01T15:35:20.137931",
     "status": "completed"
    },
    "tags": []
   },
   "outputs": [],
   "source": [
    "generated = Transformer_model.summarize(model, sentence, 3, device, 10)"
   ]
  },
  {
   "cell_type": "code",
   "execution_count": null,
   "id": "20",
   "metadata": {
    "papermill": {
     "duration": 0.021701,
     "end_time": "2025-07-01T15:35:21.201636",
     "exception": false,
     "start_time": "2025-07-01T15:35:21.179935",
     "status": "completed"
    },
    "tags": []
   },
   "outputs": [],
   "source": [
    "generated"
   ]
  },
  {
   "cell_type": "code",
   "execution_count": null,
   "id": "21",
   "metadata": {
    "papermill": {
     "duration": 0.020737,
     "end_time": "2025-07-01T15:35:21.237028",
     "exception": false,
     "start_time": "2025-07-01T15:35:21.216291",
     "status": "completed"
    },
    "tags": []
   },
   "outputs": [],
   "source": [
    "sns.set(style='whitegrid')"
   ]
  },
  {
   "cell_type": "code",
   "execution_count": null,
   "id": "22",
   "metadata": {
    "papermill": {
     "duration": 0.021135,
     "end_time": "2025-07-01T15:35:21.273759",
     "exception": false,
     "start_time": "2025-07-01T15:35:21.252624",
     "status": "completed"
    },
    "tags": []
   },
   "outputs": [],
   "source": [
    "def smooth_curve(points, factor=0.9):\n",
    "    smoothed = []\n",
    "    for p in points:\n",
    "        if smoothed:\n",
    "            smoothed.append(smoothed[-1] * factor + p * (1 - factor))\n",
    "        else:\n",
    "            smoothed.append(p)\n",
    "    return smoothed"
   ]
  },
  {
   "cell_type": "code",
   "execution_count": null,
   "id": "23",
   "metadata": {
    "papermill": {
     "duration": 0.020885,
     "end_time": "2025-07-01T15:35:21.309059",
     "exception": false,
     "start_time": "2025-07-01T15:35:21.288174",
     "status": "completed"
    },
    "tags": []
   },
   "outputs": [],
   "source": [
    "def plot_losses(train_losses, val_losses):\n",
    "    epochs = range(1, len(train_losses) + 1)\n",
    "\n",
    "    plt.figure(figsize=(10, 6))\n",
    "    plt.plot(epochs, train_losses, label='Training Loss', color='royalblue', linewidth=2.5, marker='o')\n",
    "    plt.plot(epochs, val_losses, label='Validation Loss', color='tomato', linewidth=2.5, marker='s')\n",
    "    \n",
    "    # Highlight min val loss\n",
    "    min_val_idx = val_losses.index(min(val_losses))\n",
    "    plt.scatter(min_val_idx + 1, val_losses[min_val_idx], color='green', s=100, label='Best Validation Loss')\n",
    "\n",
    "    plt.title('Training vs Validation Loss', fontsize=16)\n",
    "    plt.xlabel('Epoch', fontsize=13)\n",
    "    plt.ylabel('Loss', fontsize=13)\n",
    "    plt.xticks(epochs)\n",
    "    plt.legend(fontsize=12)\n",
    "    plt.grid(True, linestyle='--', alpha=0.6)\n",
    "    plt.tight_layout()\n",
    "    plt.show()"
   ]
  },
  {
   "cell_type": "code",
   "execution_count": null,
   "id": "24",
   "metadata": {
    "papermill": {
     "duration": 0.377812,
     "end_time": "2025-07-01T15:35:21.701127",
     "exception": false,
     "start_time": "2025-07-01T15:35:21.323315",
     "status": "completed"
    },
    "tags": []
   },
   "outputs": [],
   "source": [
    "plot_losses(smooth_curve(train_losses), smooth_curve(val_losses))"
   ]
  },
  {
   "cell_type": "code",
   "execution_count": null,
   "id": "25",
   "metadata": {
    "papermill": {
     "duration": 0.021582,
     "end_time": "2025-07-01T15:35:21.739156",
     "exception": false,
     "start_time": "2025-07-01T15:35:21.717574",
     "status": "completed"
    },
    "tags": []
   },
   "outputs": [],
   "source": [
    "train_losses"
   ]
  },
  {
   "cell_type": "code",
   "execution_count": null,
   "id": "26",
   "metadata": {
    "papermill": {
     "duration": 0.015703,
     "end_time": "2025-07-01T15:35:21.770570",
     "exception": false,
     "start_time": "2025-07-01T15:35:21.754867",
     "status": "completed"
    },
    "tags": []
   },
   "outputs": [],
   "source": []
  }
 ],
 "metadata": {
  "accelerator": "GPU",
  "colab": {
   "gpuType": "T4",
   "provenance": []
  },
  "kaggle": {
   "accelerator": "gpu",
   "dataSources": [
    {
     "datasetId": 7566230,
     "sourceId": 12025869,
     "sourceType": "datasetVersion"
    },
    {
     "sourceId": 243059908,
     "sourceType": "kernelVersion"
    },
    {
     "isSourceIdPinned": true,
     "modelId": 364597,
     "modelInstanceId": 343315,
     "sourceId": 421259,
     "sourceType": "modelInstanceVersion"
    }
   ],
   "dockerImageVersionId": 31040,
   "isGpuEnabled": true,
   "isInternetEnabled": true,
   "language": "python",
   "sourceType": "notebook"
  },
  "kernelspec": {
   "display_name": "Python 3",
   "language": "python",
   "name": "python3"
  },
  "language_info": {
   "codemirror_mode": {
    "name": "ipython",
    "version": 3
   },
   "file_extension": ".py",
   "mimetype": "text/x-python",
   "name": "python",
   "nbconvert_exporter": "python",
   "pygments_lexer": "ipython3",
   "version": "3.11.11"
  },
  "papermill": {
   "default_parameters": {},
   "duration": 75.244077,
   "end_time": "2025-07-01T15:35:24.656192",
   "environment_variables": {},
   "exception": null,
   "input_path": "__notebook__.ipynb",
   "output_path": "__notebook__.ipynb",
   "parameters": {},
   "start_time": "2025-07-01T15:34:09.412115",
   "version": "2.6.0"
  }
 },
 "nbformat": 4,
 "nbformat_minor": 5
}
