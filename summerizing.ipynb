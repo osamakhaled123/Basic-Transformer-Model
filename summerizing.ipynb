{
 "cells": [
  {
   "cell_type": "code",
   "execution_count": null,
   "metadata": {
    "_cell_guid": "b1076dfc-b9ad-4769-8c92-a6c4dae69d19",
    "_uuid": "8f2839f25d086af736a60e9eeb907d3b93b6e0e5",
    "id": "kJt1cuRPm93-"
   },
   "outputs": [],
   "source": [
    "import torch\n",
    "import torch.nn as nn\n",
    "import numpy as np\n",
    "from datasets import load_dataset\n",
    "from tqdm import tqdm\n",
    "import pdb\n",
    "import matplotlib.pyplot as plt\n",
    "import seaborn as sns"
   ]
  },
  {
   "cell_type": "code",
   "execution_count": null,
   "metadata": {
    "colab": {
     "base_uri": "https://localhost:8080/",
     "height": 432,
     "referenced_widgets": [
      "dff3f22c99944517bef1456a1a1bf20e",
      "ae3fd8ec62e746c7ad15858a0cca71cb",
      "bd054717df544a7babf2b93c95aea75f",
      "9c8e739151ec43db8fd65ebbb0e291e5",
      "520efa7babb74ebd99bba57422ae448c",
      "bcfe5ffff2354bd5b4a5ec63242e5763",
      "28983c12cd334a20a50d7bc98e19fe02",
      "d2e4cdeed968483a8455e5940c3c9de2",
      "58172674cf794706ba7c4e7d1ed256de",
      "31af047573ae4505ab48a6756dc897be",
      "6706f0979a624e4fb2160db7cb9f3aa0",
      "b161692dfbae4cbca4856860a6fe55dd",
      "b88af0db10e243678ac5aff86cbb7ad1",
      "c4ee7ad582b947a098e496a0b1cd35ea",
      "e80bef909fb848f4b6ae5f576751f4e1",
      "ab3a6777268449c58554d57e9783450f",
      "e9413b6ece5e4be29b0b213c9798f051",
      "5453a135a059420da1be6f1893b88aa9",
      "a3da3cdcc6ce4706b5d66ada6eff8f16",
      "34a57999dd7840298a55334a66eafdf0",
      "399292a412794f9799d46eedfb45ecc9",
      "c3f04dad75c647e688e564ade8bd8733",
      "baaf3ef16ec846b69619a68394d76450",
      "96d4e73373404ccea630ffc831b878c5",
      "98abcf95b84f48ff8cecfddb7ea4bc83",
      "e266a5c987fd40d9832649b733e8152a",
      "db99b80c1945482f8d89306e748ccf3c",
      "946c33ea2127439bb0cc8ea567421710",
      "6d7009357cc44385a7085b7684e1ec7c",
      "f4b0e4b0c3094ee2a140945f1313dd06",
      "55da346a67db411ea58df7d6ed48fbc0",
      "396656925c1a4814acee35fb4d66ac0a",
      "be13e7cfe53c415d9a056e9f449c9750",
      "53899415fef54190b5010c41def15d8c",
      "43248e262be648a6b04c5bc347398984",
      "4ebfff13cb3c4119a6189ae7ed0c8b13",
      "5cb46a9cc82d41d6908752549b42ddcf",
      "913785b694434f21bf83b21e856caa6b",
      "ba54d4d01d9d4d41a828c2f5c4e8389f",
      "e7d403ad8e134a8ca3881ded478d13ce",
      "4fe6cdd6076d46978bd9ab76d6ad2b85",
      "8dc920728e184679b00074765e737b29",
      "f8f5a61bb4724c5792e0bd34b0632611",
      "6ff5a0f392154fdfae0e5ef4f118d015",
      "be7f70b0922c4e2c94eabd4274be5e93",
      "0f87b554c9e446c9bf7f60d46efac029",
      "3fac69db292d425eb7c306d7d13970b1",
      "547b0abd7cac4fefb519c417491f4635",
      "8985c53a16494ca8a44804e5d661ac47",
      "60743ed3a4924551a74b8be1067be669",
      "4b153e7d62b44ded97c95e7b2c8dfef0",
      "19ddf2b476854f0a8470aeca2f116dd7",
      "3e54660d4a0746a897e5c19b77330380",
      "243a742cac2847aea1dda7f313f02d22",
      "bb6df53da8244d848d8f77892ebd0e10",
      "3499b3184fc341adb4cf212ab0b231ad",
      "c50efafb9c88464c96633b176f1117af",
      "7461136e6ef04eaa87a58573eb851424",
      "b7aeefc9b1a4451ea6fb3f92efad34c3",
      "5667f563eab1483da70f6ac4ea2819bc",
      "b559f4890925438c831a18a4e0a160b5",
      "81a26b44e3e846ae899117364b54b96a",
      "7e349a45957f4f0698aca29edf0c4640",
      "c9cf6d09dcbc4e468aae06bed883c2bd",
      "5023ca5c1d6f46b9bff4d014be4c07e0",
      "cc70109de81b46d78f0825423f44ebd0",
      "df5991caf47d4b08a920cf85a87947cd",
      "5af189777c184349bea1d0d63f4cbd43",
      "5288fa90646445dea008db52e8ea5b92",
      "90d960cbbe074890b19cb547f52d838a",
      "8ef364e4c2124078afe227e488bc0bd0",
      "6693832b06574a8d89a1713ff5b92fd7",
      "f7589bfeaeb64e00a6a8b60f341dc0bb",
      "67b1bcb393d543028d5e89437eae22d3",
      "bf5ed087c08540c69d00df5b1cc3bcce",
      "398ca202e2fc44f78b2b947f07dbb6b0",
      "9f3c99ef134044b6adcb65d50c423935",
      "bf5bca47ccdc473d952a98a726c0c623",
      "a31815536cc746469a44850e48ff7701",
      "36e2d3f88eb44cf6bd34f68bb81c972c",
      "32f2b9cbb6e843b785b7b0a9f559ac7d",
      "2222657466274e6b8f79da3348b76f25",
      "924987750d6e4de1957906a50f0c35dd",
      "13dbbd45aff0469d8bded504adf4051f",
      "84d2d74e66144a87b9433fa0b4f22fbc",
      "cd833512648341b5ba958f73c2c581ff",
      "3e5ed868055a44d5936734837427e6ef",
      "3238c04eccf44c26a3986d7d52b26eaa",
      "ad6f374dd4f0497dbf3c02e7c1a7fb32",
      "610b8dfed5af48bf9516645ede978f09",
      "418ee795a9d24cd5a561cee0d8874462",
      "73075e9efb834f198b0ace0fb67f8c42",
      "428791c56003477ba83d01eb918c0037",
      "a2d4bc35e6974f929d0fc35401eb1801",
      "1a0454b2e51f4eeb9c7ee334ce4d3ec5",
      "351fc659c5ad41deb140c5dfbd669b8c",
      "d107495320e7445cb75e9cb81d8ff43f",
      "92bda8ec4c4e41bdbcd7c3fc86187b0e",
      "7c7f87dba9c744939d238da1be72835b"
     ]
    },
    "id": "PJnUKhUvm93_",
    "outputId": "a20f435f-081c-4cd3-c437-fbd7255cdaad"
   },
   "outputs": [],
   "source": [
    "!pip install --upgrade datasets\n",
    "dataset = load_dataset(\"cnn_dailymail\",\"3.0.0\")"
   ]
  },
  {
   "cell_type": "code",
   "execution_count": null,
   "metadata": {
    "colab": {
     "base_uri": "https://localhost:8080/"
    },
    "id": "sfHHmRecm94F",
    "outputId": "fd860333-24df-4543-c0ef-c0cb17fa70c9"
   },
   "outputs": [],
   "source": [
    "!pip install git\n",
    "!git clone https://github.com/osamakhaled123/Basic-Transformer-Model\n",
    "!cd '/content/Basic-Transformer-Model'\n",
    "%cd Basic-Transformer-Model/"
   ]
  },
  {
   "cell_type": "code",
   "execution_count": null,
   "metadata": {
    "id": "9e_rDz418Oqg"
   },
   "outputs": [],
   "source": [
    "import Processing_Summarizing_Datasets_From_Scratch as pre"
   ]
  },
  {
   "cell_type": "code",
   "execution_count": null,
   "metadata": {
    "id": "a49AoYcUm94G"
   },
   "outputs": [],
   "source": [
    "articles = np.array(dataset['train'][:14000]['article'])\n",
    "summaries = np.array(dataset['train'][:14000]['highlights'])\n",
    "texts = {'articles':articles,\n",
    "         'summaries':summaries}\n",
    "max_input_len = 1000\n",
    "max_target_len = 85"
   ]
  },
  {
   "cell_type": "code",
   "execution_count": null,
   "metadata": {
    "id": "UmjOww7Gm94H"
   },
   "outputs": [],
   "source": [
    "text_train, train_data, train_target, vocab = pre.preprocessing(texts, max_input_len, max_target_len, {})"
   ]
  },
  {
   "cell_type": "code",
   "execution_count": null,
   "metadata": {
    "colab": {
     "base_uri": "https://localhost:8080/"
    },
    "id": "CbOcRtdfUqVk",
    "outputId": "e7fc1ac0-880a-4689-d5ec-cf2dc740224c"
   },
   "outputs": [],
   "source": [
    "text_train.shape, train_data.shape, train_target.shape, len(vocab)"
   ]
  },
  {
   "cell_type": "code",
   "execution_count": null,
   "metadata": {
    "id": "NbXj1RXVtkVf"
   },
   "outputs": [],
   "source": [
    "train_set, val_set, test_set = pre.splitting_and_batching(input_data=train_data, target_data=train_target,\n",
    "                                                          split_frac=0.95, batch_size=32) # Reduced batch size"
   ]
  },
  {
   "cell_type": "code",
   "execution_count": null,
   "metadata": {},
   "outputs": [],
   "source": [
    "import Transformer_model"
   ]
  },
  {
   "cell_type": "code",
   "execution_count": null,
   "metadata": {},
   "outputs": [],
   "source": [
    "# device = torch.device('cuda' if torch.cuda.is_available() else 'cpu')\n",
    "\n",
    "# model = Transformer_model.Transformer(\n",
    "#     vocab=vocab,\n",
    "#     max_input_length=max_input_len,\n",
    "#     max_target_length=max_target_len,\n",
    "#     emb_dim=256,\n",
    "#     dff=1024,\n",
    "#     num_heads=4,\n",
    "#     num_encoder_blocks=4,\n",
    "#     num_decoder_blocks=4,\n",
    "#     dropout=0.5\n",
    "# ).to(device)"
   ]
  },
  {
   "cell_type": "code",
   "execution_count": null,
   "metadata": {
    "id": "F_sQ8tPgJLTB"
   },
   "outputs": [],
   "source": [
    "# train_losses , val_losses = Transformer_model.train(model, train_set, val_set, 5, 0.005, device)"
   ]
  },
  {
   "cell_type": "code",
   "execution_count": null,
   "metadata": {},
   "outputs": [],
   "source": [
    "# saved_dict ={'model':model,\n",
    "#             'train loss':train_losses,\n",
    "#             'val losses':val_losses}"
   ]
  },
  {
   "cell_type": "code",
   "execution_count": null,
   "metadata": {
    "id": "tNQD9yVzshK2"
   },
   "outputs": [],
   "source": [
    "# torch.save(saved_dict, 'Transformer_Model.pt')"
   ]
  },
  {
   "cell_type": "code",
   "execution_count": null,
   "metadata": {
    "id": "8CMRQpp7d-vz"
   },
   "outputs": [],
   "source": [
    "%cd /kaggle/working/"
   ]
  },
  {
   "cell_type": "code",
   "execution_count": null,
   "metadata": {
    "colab": {
     "base_uri": "https://localhost:8080/"
    },
    "id": "idv9ChowWlww",
    "outputId": "2871983e-7a77-423f-912e-20441a5eff00"
   },
   "outputs": [],
   "source": [
    "!pip install -q gdown\n",
    "!gdown --id 1cxLyCAa4XH5xgaqV8CwTD_un3FEF1hGN --output Transformer_Model.pt\n"
   ]
  },
  {
   "cell_type": "code",
   "execution_count": null,
   "metadata": {
    "id": "x3DuuVb6GObh"
   },
   "outputs": [],
   "source": [
    "device = torch.device('cuda' if torch.cuda.is_available() else 'cpu')"
   ]
  },
  {
   "cell_type": "code",
   "execution_count": null,
   "metadata": {
    "id": "hHmft-N95N0e"
   },
   "outputs": [],
   "source": [
    "state_dict = torch.load('Transformer_Model.pt', map_location=device, weights_only=False)"
   ]
  },
  {
   "cell_type": "code",
   "execution_count": null,
   "metadata": {},
   "outputs": [],
   "source": [
    "model = state_dict['model']\n",
    "train_losses = state_dict['train loss']\n",
    "val_losses = state_dict['val losses']"
   ]
  },
  {
   "cell_type": "code",
   "execution_count": null,
   "metadata": {
    "id": "MCIMV_qc8EhS"
   },
   "outputs": [],
   "source": [
    "sentence = \"\"\"Harry Potter star Daniel Radcliffe gains access to a reported £20 million \n",
    "($41.1 million) fortune as he turns 18 on Monday, but he insists the money won\\'t cast a spell \n",
    "on him. Daniel Radcliffe as Harry Potter in \"Harry Potter and the Order of the Phoenix\" To the \n",
    "disappointment of gossip columnists around the world, the young actor says he has no plans to \n",
    "fritter his cash away on fast cars, drink and celebrity parties.\"\"\""
   ]
  },
  {
   "cell_type": "code",
   "execution_count": null,
   "metadata": {
    "id": "nPrUBKdG7gyJ"
   },
   "outputs": [],
   "source": [
    "generated = Transformer_model.summarize(model, sentence, 3, device, 10)"
   ]
  },
  {
   "cell_type": "code",
   "execution_count": null,
   "metadata": {},
   "outputs": [],
   "source": [
    "generated"
   ]
  },
  {
   "cell_type": "code",
   "execution_count": null,
   "metadata": {},
   "outputs": [],
   "source": [
    "sns.set(style='whitegrid')"
   ]
  },
  {
   "cell_type": "code",
   "execution_count": null,
   "metadata": {},
   "outputs": [],
   "source": [
    "def smooth_curve(points, factor=0.9):\n",
    "    smoothed = []\n",
    "    for p in points:\n",
    "        if smoothed:\n",
    "            smoothed.append(smoothed[-1] * factor + p * (1 - factor))\n",
    "        else:\n",
    "            smoothed.append(p)\n",
    "    return smoothed"
   ]
  },
  {
   "cell_type": "code",
   "execution_count": null,
   "metadata": {},
   "outputs": [],
   "source": [
    "def plot_losses(train_losses, val_losses):\n",
    "    epochs = range(1, len(train_losses) + 1)\n",
    "\n",
    "    plt.figure(figsize=(10, 6))\n",
    "    plt.plot(epochs, train_losses, label='Training Loss', color='royalblue', linewidth=2.5, marker='o')\n",
    "    plt.plot(epochs, val_losses, label='Validation Loss', color='tomato', linewidth=2.5, marker='s')\n",
    "    \n",
    "    # Highlight min val loss\n",
    "    min_val_idx = val_losses.index(min(val_losses))\n",
    "    plt.scatter(min_val_idx + 1, val_losses[min_val_idx], color='green', s=100, label='Best Validation Loss')\n",
    "\n",
    "    plt.title('Training vs Validation Loss', fontsize=16)\n",
    "    plt.xlabel('Epoch', fontsize=13)\n",
    "    plt.ylabel('Loss', fontsize=13)\n",
    "    plt.xticks(epochs)\n",
    "    plt.legend(fontsize=12)\n",
    "    plt.grid(True, linestyle='--', alpha=0.6)\n",
    "    plt.tight_layout()\n",
    "    plt.show()"
   ]
  },
  {
   "cell_type": "code",
   "execution_count": null,
   "metadata": {},
   "outputs": [],
   "source": [
    "plot_losses(smooth_curve(train_losses), smooth_curve(val_losses))"
   ]
  }
 ],
 "metadata": {
  "accelerator": "GPU",
  "colab": {
   "gpuType": "T4",
   "provenance": []
  },
  "kaggle": {
   "accelerator": "gpu",
   "dataSources": [],
   "dockerImageVersionId": 31040,
   "isGpuEnabled": true,
   "isInternetEnabled": true,
   "language": "python",
   "sourceType": "notebook"
  },
  "kernelspec": {
   "display_name": "Python 3",
   "language": "python",
   "name": "python3"
  },
  "language_info": {
   "codemirror_mode": {
    "name": "ipython",
    "version": 3
   },
   "file_extension": ".py",
   "mimetype": "text/x-python",
   "name": "python",
   "nbconvert_exporter": "python",
   "pygments_lexer": "ipython3",
   "version": "3.11.11"
  }
 },
 "nbformat": 4,
 "nbformat_minor": 4
}
